{
 "cells": [
  {
   "cell_type": "markdown",
   "id": "a9e4e964-c189-4d84-a88a-1a89cfd65978",
   "metadata": {},
   "source": [
    "## Initial Prototype"
   ]
  },
  {
   "cell_type": "code",
   "execution_count": null,
   "id": "d7968d67-2093-4d9a-ad13-c35bf3ed9718",
   "metadata": {},
   "outputs": [],
   "source": [
    "# Main libraries to be used in project\n",
    "import joblib\n",
    "from os import getenv\n",
    "from os.path import expanduser, join\n",
    "\n",
    "import numpy as np\n",
    "import pandas as pd\n",
    "\n",
    "from huggingface_hub import InferenceClient"
   ]
  },
  {
   "cell_type": "code",
   "execution_count": null,
   "id": "dd0bf9fe-fb81-49c9-8b13-cde83c01cb2e",
   "metadata": {},
   "outputs": [],
   "source": [
    "# Define locations, incuding support for Colab\n",
    "colab = False\n",
    "if colab:\n",
    "    from google.colab import drive\n",
    "    drive.mount(\"/content/drive\", force_remount=True)\n",
    "\n",
    "    root_dir = \"/content/drive/MyDrive\"\n",
    "    datapath = join(root_dir, \"\")\n",
    "    formatpath = join(root_dir, \"\")\n",
    "else:\n",
    "    root_dir = \"/content/drive/MyDrive\"\n",
    "    datapath = join(root_dir, \"\")\n",
    "    formatpath = join(root_dir, \"\")"
   ]
  },
  {
   "cell_type": "code",
   "execution_count": null,
   "id": "64e38343-73cc-4c1c-a10b-87cded834b41",
   "metadata": {},
   "outputs": [],
   "source": [
    "print(\"null\")"
   ]
  }
 ],
 "metadata": {
  "kernelspec": {
   "display_name": "Python 3 (ipykernel)",
   "language": "python",
   "name": "python3"
  },
  "language_info": {
   "codemirror_mode": {
    "name": "ipython",
    "version": 3
   },
   "file_extension": ".py",
   "mimetype": "text/x-python",
   "name": "python",
   "nbconvert_exporter": "python",
   "pygments_lexer": "ipython3",
   "version": "3.12.7"
  }
 },
 "nbformat": 4,
 "nbformat_minor": 5
}
